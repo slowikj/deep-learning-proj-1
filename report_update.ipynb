{
 "cells": [
  {
   "cell_type": "code",
   "execution_count": 1,
   "metadata": {},
   "outputs": [],
   "source": [
    "import numpy as np"
   ]
  },
  {
   "cell_type": "code",
   "execution_count": 2,
   "metadata": {},
   "outputs": [],
   "source": [
    "import pandas as pd"
   ]
  },
  {
   "cell_type": "code",
   "execution_count": 3,
   "metadata": {},
   "outputs": [],
   "source": [
    "import matplotlib.pyplot as plt"
   ]
  },
  {
   "cell_type": "code",
   "execution_count": 5,
   "metadata": {},
   "outputs": [],
   "source": [
    "data_frame = pd.read_csv(\"./mnist_train.csv\", sep=\",\", header=None)"
   ]
  },
  {
   "cell_type": "code",
   "execution_count": 6,
   "metadata": {},
   "outputs": [
    {
     "data": {
      "text/html": [
       "<div>\n",
       "<style scoped>\n",
       "    .dataframe tbody tr th:only-of-type {\n",
       "        vertical-align: middle;\n",
       "    }\n",
       "\n",
       "    .dataframe tbody tr th {\n",
       "        vertical-align: top;\n",
       "    }\n",
       "\n",
       "    .dataframe thead th {\n",
       "        text-align: right;\n",
       "    }\n",
       "</style>\n",
       "<table border=\"1\" class=\"dataframe\">\n",
       "  <thead>\n",
       "    <tr style=\"text-align: right;\">\n",
       "      <th></th>\n",
       "      <th>0</th>\n",
       "      <th>1</th>\n",
       "      <th>2</th>\n",
       "      <th>3</th>\n",
       "      <th>4</th>\n",
       "      <th>5</th>\n",
       "      <th>6</th>\n",
       "      <th>7</th>\n",
       "      <th>8</th>\n",
       "      <th>9</th>\n",
       "      <th>...</th>\n",
       "      <th>775</th>\n",
       "      <th>776</th>\n",
       "      <th>777</th>\n",
       "      <th>778</th>\n",
       "      <th>779</th>\n",
       "      <th>780</th>\n",
       "      <th>781</th>\n",
       "      <th>782</th>\n",
       "      <th>783</th>\n",
       "      <th>784</th>\n",
       "    </tr>\n",
       "  </thead>\n",
       "  <tbody>\n",
       "    <tr>\n",
       "      <th>0</th>\n",
       "      <td>5</td>\n",
       "      <td>0</td>\n",
       "      <td>0</td>\n",
       "      <td>0</td>\n",
       "      <td>0</td>\n",
       "      <td>0</td>\n",
       "      <td>0</td>\n",
       "      <td>0</td>\n",
       "      <td>0</td>\n",
       "      <td>0</td>\n",
       "      <td>...</td>\n",
       "      <td>0</td>\n",
       "      <td>0</td>\n",
       "      <td>0</td>\n",
       "      <td>0</td>\n",
       "      <td>0</td>\n",
       "      <td>0</td>\n",
       "      <td>0</td>\n",
       "      <td>0</td>\n",
       "      <td>0</td>\n",
       "      <td>0</td>\n",
       "    </tr>\n",
       "    <tr>\n",
       "      <th>1</th>\n",
       "      <td>0</td>\n",
       "      <td>0</td>\n",
       "      <td>0</td>\n",
       "      <td>0</td>\n",
       "      <td>0</td>\n",
       "      <td>0</td>\n",
       "      <td>0</td>\n",
       "      <td>0</td>\n",
       "      <td>0</td>\n",
       "      <td>0</td>\n",
       "      <td>...</td>\n",
       "      <td>0</td>\n",
       "      <td>0</td>\n",
       "      <td>0</td>\n",
       "      <td>0</td>\n",
       "      <td>0</td>\n",
       "      <td>0</td>\n",
       "      <td>0</td>\n",
       "      <td>0</td>\n",
       "      <td>0</td>\n",
       "      <td>0</td>\n",
       "    </tr>\n",
       "    <tr>\n",
       "      <th>2</th>\n",
       "      <td>4</td>\n",
       "      <td>0</td>\n",
       "      <td>0</td>\n",
       "      <td>0</td>\n",
       "      <td>0</td>\n",
       "      <td>0</td>\n",
       "      <td>0</td>\n",
       "      <td>0</td>\n",
       "      <td>0</td>\n",
       "      <td>0</td>\n",
       "      <td>...</td>\n",
       "      <td>0</td>\n",
       "      <td>0</td>\n",
       "      <td>0</td>\n",
       "      <td>0</td>\n",
       "      <td>0</td>\n",
       "      <td>0</td>\n",
       "      <td>0</td>\n",
       "      <td>0</td>\n",
       "      <td>0</td>\n",
       "      <td>0</td>\n",
       "    </tr>\n",
       "    <tr>\n",
       "      <th>3</th>\n",
       "      <td>1</td>\n",
       "      <td>0</td>\n",
       "      <td>0</td>\n",
       "      <td>0</td>\n",
       "      <td>0</td>\n",
       "      <td>0</td>\n",
       "      <td>0</td>\n",
       "      <td>0</td>\n",
       "      <td>0</td>\n",
       "      <td>0</td>\n",
       "      <td>...</td>\n",
       "      <td>0</td>\n",
       "      <td>0</td>\n",
       "      <td>0</td>\n",
       "      <td>0</td>\n",
       "      <td>0</td>\n",
       "      <td>0</td>\n",
       "      <td>0</td>\n",
       "      <td>0</td>\n",
       "      <td>0</td>\n",
       "      <td>0</td>\n",
       "    </tr>\n",
       "    <tr>\n",
       "      <th>4</th>\n",
       "      <td>9</td>\n",
       "      <td>0</td>\n",
       "      <td>0</td>\n",
       "      <td>0</td>\n",
       "      <td>0</td>\n",
       "      <td>0</td>\n",
       "      <td>0</td>\n",
       "      <td>0</td>\n",
       "      <td>0</td>\n",
       "      <td>0</td>\n",
       "      <td>...</td>\n",
       "      <td>0</td>\n",
       "      <td>0</td>\n",
       "      <td>0</td>\n",
       "      <td>0</td>\n",
       "      <td>0</td>\n",
       "      <td>0</td>\n",
       "      <td>0</td>\n",
       "      <td>0</td>\n",
       "      <td>0</td>\n",
       "      <td>0</td>\n",
       "    </tr>\n",
       "  </tbody>\n",
       "</table>\n",
       "<p>5 rows × 785 columns</p>\n",
       "</div>"
      ],
      "text/plain": [
       "   0    1    2    3    4    5    6    7    8    9   ...   775  776  777  778  \\\n",
       "0    5    0    0    0    0    0    0    0    0    0 ...     0    0    0    0   \n",
       "1    0    0    0    0    0    0    0    0    0    0 ...     0    0    0    0   \n",
       "2    4    0    0    0    0    0    0    0    0    0 ...     0    0    0    0   \n",
       "3    1    0    0    0    0    0    0    0    0    0 ...     0    0    0    0   \n",
       "4    9    0    0    0    0    0    0    0    0    0 ...     0    0    0    0   \n",
       "\n",
       "   779  780  781  782  783  784  \n",
       "0    0    0    0    0    0    0  \n",
       "1    0    0    0    0    0    0  \n",
       "2    0    0    0    0    0    0  \n",
       "3    0    0    0    0    0    0  \n",
       "4    0    0    0    0    0    0  \n",
       "\n",
       "[5 rows x 785 columns]"
      ]
     },
     "execution_count": 6,
     "metadata": {},
     "output_type": "execute_result"
    }
   ],
   "source": [
    "data_frame.head()"
   ]
  },
  {
   "cell_type": "code",
   "execution_count": 7,
   "metadata": {},
   "outputs": [],
   "source": [
    "data_frame.loc[:, 1:] /= 255.0"
   ]
  },
  {
   "cell_type": "code",
   "execution_count": 8,
   "metadata": {},
   "outputs": [],
   "source": [
    "tmp = data_frame.loc[1, :]"
   ]
  },
  {
   "cell_type": "code",
   "execution_count": 9,
   "metadata": {},
   "outputs": [
    {
     "data": {
      "text/plain": [
       "128    0.200000\n",
       "129    0.623529\n",
       "130    0.992157\n",
       "131    0.623529\n",
       "132    0.196078\n",
       "155    0.188235\n",
       "156    0.933333\n",
       "157    0.988235\n",
       "158    0.988235\n",
       "159    0.988235\n",
       "160    0.929412\n",
       "182    0.211765\n",
       "183    0.890196\n",
       "184    0.992157\n",
       "185    0.988235\n",
       "186    0.937255\n",
       "187    0.913725\n",
       "188    0.988235\n",
       "189    0.223529\n",
       "190    0.023529\n",
       "208    0.039216\n",
       "209    0.235294\n",
       "210    0.878431\n",
       "211    0.988235\n",
       "212    0.992157\n",
       "213    0.988235\n",
       "214    0.792157\n",
       "215    0.329412\n",
       "216    0.988235\n",
       "217    0.992157\n",
       "         ...   \n",
       "577    0.874510\n",
       "578    0.654902\n",
       "579    0.219608\n",
       "595    0.333333\n",
       "596    0.988235\n",
       "597    0.988235\n",
       "598    0.988235\n",
       "599    0.898039\n",
       "600    0.843137\n",
       "601    0.988235\n",
       "602    0.988235\n",
       "603    0.988235\n",
       "604    0.768627\n",
       "605    0.509804\n",
       "623    0.109804\n",
       "624    0.780392\n",
       "625    0.988235\n",
       "626    0.988235\n",
       "627    0.992157\n",
       "628    0.988235\n",
       "629    0.988235\n",
       "630    0.913725\n",
       "631    0.568627\n",
       "652    0.098039\n",
       "653    0.501961\n",
       "654    0.988235\n",
       "655    0.992157\n",
       "656    0.988235\n",
       "657    0.552941\n",
       "658    0.145098\n",
       "Name: 1, Length: 176, dtype: float64"
      ]
     },
     "execution_count": 9,
     "metadata": {},
     "output_type": "execute_result"
    }
   ],
   "source": [
    "tmp[tmp != 0]"
   ]
  },
  {
   "cell_type": "code",
   "execution_count": 10,
   "metadata": {},
   "outputs": [
    {
     "name": "stderr",
     "output_type": "stream",
     "text": [
      "C:\\Users\\Paulina\\Anaconda3\\lib\\site-packages\\ipykernel_launcher.py:1: FutureWarning: Method .as_matrix will be removed in a future version. Use .values instead.\n",
      "  \"\"\"Entry point for launching an IPython kernel.\n"
     ]
    }
   ],
   "source": [
    "data=data_frame.as_matrix()"
   ]
  },
  {
   "cell_type": "code",
   "execution_count": 11,
   "metadata": {},
   "outputs": [],
   "source": [
    "image=data[0,1:].reshape((28,28))"
   ]
  },
  {
   "cell_type": "code",
   "execution_count": 12,
   "metadata": {},
   "outputs": [
    {
     "data": {
      "image/png": "[encoded data removed]",
      "text/plain": [
       "<Figure size 432x288 with 1 Axes>"
      ]
     },
     "metadata": {
      "needs_background": "light"
     },
     "output_type": "display_data"
    }
   ],
   "source": [
    "plt.imshow(image)\n",
    "plt.show()"
   ]
  },
  {
   "cell_type": "code",
   "execution_count": 13,
   "metadata": {},
   "outputs": [],
   "source": [
    "def show_image(data_matrix, index):\n",
    "\timage=data_matrix[index,1:].reshape((28,28))\n",
    "\tplt.imshow(image)\n",
    "\tplt.show()"
   ]
  },
  {
   "cell_type": "code",
   "execution_count": 14,
   "metadata": {},
   "outputs": [
    {
     "data": {
      "text/plain": [
       "(60000, 785)"
      ]
     },
     "execution_count": 14,
     "metadata": {},
     "output_type": "execute_result"
    }
   ],
   "source": [
    "data.shape"
   ]
  },
  {
   "cell_type": "code",
   "execution_count": 15,
   "metadata": {},
   "outputs": [
    {
     "data": {
      "image/png": "[encoded data removed]",
      "text/plain": [
       "<Figure size 432x288 with 1 Axes>"
      ]
     },
     "metadata": {
      "needs_background": "light"
     },
     "output_type": "display_data"
    }
   ],
   "source": [
    "show_image(data, 0)"
   ]
  },
  {
   "cell_type": "code",
   "execution_count": null,
   "metadata": {},
   "outputs": [],
   "source": [
    "#regularization"
   ]
  },
  {
   "cell_type": "code",
   "execution_count": 16,
   "metadata": {},
   "outputs": [
    {
     "ename": "SyntaxError",
     "evalue": "invalid syntax (<ipython-input-16-5655e6d3903d>, line 42)",
     "output_type": "error",
     "traceback": [
      "\u001b[1;36m  File \u001b[1;32m\"<ipython-input-16-5655e6d3903d>\"\u001b[1;36m, line \u001b[1;32m42\u001b[0m\n\u001b[1;33m    delta[i]=diff[i]*\u001b[0m\n\u001b[1;37m                      ^\u001b[0m\n\u001b[1;31mSyntaxError\u001b[0m\u001b[1;31m:\u001b[0m invalid syntax\n"
     ]
    }
   ],
   "source": [
    "class Network(object):\n",
    "    \n",
    "    def __init__(self, train_data, hidden_layer_neurons_num, activation_functions = None):\n",
    "        self.number_of_classes = 10\n",
    "        self.train_data = train_data\n",
    "        train_data_without_labels = train_data[:,1:]\n",
    "        self.input_neurons_num = train_data_without_labels.shape[0] \\\n",
    "            if len(train_data_without_labels.shape) == 1 \\\n",
    "            else train_data_without_labels.shape[1]\n",
    "        self.neurons_num_per_layer = [self.input_neurons_num] + hidden_layer_neurons_num + [self.number_of_classes]\n",
    "        self.layers_num = len(self.neurons_num_per_layer)\n",
    "        self.activation_functions = [lambda x: self.sigmoid_function(x)] * (self.layers_num - 2) + \\\n",
    "            [lambda x: self.softmax_function(x)] \n",
    "        self.weight_list = [np.random.randn(current_layer_num, next_layer_num) \\\n",
    "                       for (current_layer_num, next_layer_num) in \\\n",
    "                            zip(self.neurons_num_per_layer, self.neurons_num_per_layer[1:])]\n",
    "        \n",
    "        self.bias_list = [np.random.randn(1, layer_num) for layer_num in self.neurons_num_per_layer[1:]]\n",
    "        \n",
    "    def main(self, batch_size):\n",
    "        train_batches = self.create_train_batches(batch_size)\n",
    "        probabilities = feed_forward(map(lambda x: x[:,1:], train_batches))\n",
    "        labels = map(lambda x: np.transpose(self.one_hot_encoded(x[:, 0:1].reshape(9))), train_batches)\n",
    "        for batch_probabilities, batch_labels in zip(probabilities, labels): #tego fora zrobimy w main\n",
    "            self.back_propagation(batch_probabilities, batch_labels)\n",
    "        # TODO: finish\n",
    "        \n",
    "  \n",
    "    def feed_forward(self, train_batches):\n",
    "        probabilities = []\n",
    "        for train_batch in train_batches:\n",
    "            layer_output = train_batch\n",
    "            labels = self.one_hot_encoded(train_batch[:, 0])\n",
    "            for activation_function, w, b in zip(self.activation_functions, self.weight_list, self.bias_list):\n",
    "                layer_output = activation_function(np.matmul(layer_output, w) + b)\n",
    "            probabilities.append(layer_output)\n",
    "        return probabilities\n",
    "    \n",
    "    def deltas(self, probabilities, labels): #back_propagation\n",
    "        diff=np.zeros(len(probabilities))\n",
    "         \n",
    "            \n",
    "        #delta=[]\n",
    "        for layers in range (self.layers_num,1):\n",
    "            if layers==self.layers_num:\n",
    "                delta[layers]= (probabilities-labels)*softmax_derivative (layer_output(L-1)) #pochodne po wagach\n",
    "            else\n",
    "                sum_w_delta[layers]=0\n",
    "                for n_neurons in self.neurons_num_per_layer[layers]:\n",
    "                    sum_w_delta[layers]+= weight_list[current+1]*delta[current+1]\n",
    "                delta[layers]=sum_w_delta*sigmoid_derivative(layer_output(current-1))\n",
    "                    \n",
    "            #napisać bias update\n",
    "            \n",
    "            #compute average delta per layer    \n",
    "            \n",
    "            #diff[i]=batch_probabilities-batch_labels\n",
    "            #delta[i]=diff[i]* \n",
    "        return delta\n",
    "        \n",
    "    def weight_bias_update (self,)\n",
    "        #trzeba to zrobić w for\n",
    "        grad_W(layer)=delta(layer)*np.transpose(activation_function(layer-1))\n",
    "        grad_b(layer)=delta(layer)\n",
    "        weights_list-=alfa*mean(grad_W)\n",
    "        bias_list-=alfa*mean(grad_b)\n",
    "        return weights_list, bias_list\n",
    "        \n",
    "    def sotfmax_derivative(self, probabilities):\n",
    "        diff_output=np.zeros([10,10])\n",
    "        for row in range (diff_output.shape[0]):\n",
    "            for col in range (diff_output.shape[1]):\n",
    "                if (col==row):\n",
    "                    diff_output[col,row]=probabilities[row]*(1-probabilities[col])\n",
    "                else\n",
    "                    diff_output [col,row]=-probabilities[row]*probabilities[col]\n",
    "        return diff_output\n",
    "    \n",
    "    def sigmoid_derivative (layer_output):\n",
    "        diff_output=layer_output*(1-layer_output)\n",
    "        return diff_output\n",
    "        \n",
    "    def tanh_derivative (layer_output):\n",
    "        diff_output=1-(layer_output)^2\n",
    "        return diff_output\n",
    "    \n",
    "    def relu_derivative (layer_output)\n",
    "    \n",
    "    \n",
    "    #TODO połoczyć metody z derivative w jedną activation_function_derivative (może oddzielnie dla softamx i reszty)\n",
    "    \n",
    "    \n",
    "# Backpropagate error and store in neurons\n",
    "def backward_propagate_error(network, expected):\n",
    "\tfor i in reversed(range(len(network))):\n",
    "\t\tlayer = network[i]\n",
    "\t\terrors = list()\n",
    "\t\tif i != len(network)-1:\n",
    "\t\t\tfor j in range(len(layer)):\n",
    "\t\t\t\terror = 0.0\n",
    "\t\t\t\tfor neuron in network[i + 1]:\n",
    "\t\t\t\t\terror += (neuron['weights'][j] * neuron['delta'])\n",
    "\t\t\t\terrors.append(error)\n",
    "\t\telse:\n",
    "\t\t\tfor j in range(len(layer)):\n",
    "\t\t\t\tneuron = layer[j]\n",
    "\t\t\t\terrors.append(expected[j] - neuron['output'])\n",
    "\t\tfor j in range(len(layer)):\n",
    "\t\t\tneuron = layer[j]\n",
    "\t\t\tneuron['delta'] = errors[j] * transfer_derivative(neuron['output'])\n",
    " \n",
    "\n",
    "    def create_train_batches(self, batch_size):\n",
    "        rows_num = self.train_data.shape[0]\n",
    "        n = int(np.ceil(rows_num / batch_size))\n",
    "        return [self.train_data[(i * batch_size):min((i + 1) * batch_size, rows_num)] for i in range(n)]\n",
    "    \n",
    "    def one_hot_encoded(self, train_labels):\n",
    "        train_labels = train_labels.astype(int)\n",
    "        res = np.zeros((self.number_of_classes, train_labels.shape[0]))\n",
    "        res[train_labels, np.arange(res.shape[1])] = 1\n",
    "        return res\n",
    "        \n",
    "    def sigmoid_function(self, x):\n",
    "        return 1 / (1 + np.exp(-x))\n",
    "    \n",
    "    def softmax_function(self, x):\n",
    "        return np.exp(x) / np.sum(np.exp(x)) \n",
    "        "
   ]
  },
  {
   "cell_type": "code",
   "execution_count": null,
   "metadata": {},
   "outputs": [],
   "source": [
    "net = Network(data[1:10], [2,3])"
   ]
  },
  {
   "cell_type": "code",
   "execution_count": null,
   "metadata": {},
   "outputs": [],
   "source": [
    "[matrix.shape for matrix in net.weight_list]"
   ]
  },
  {
   "cell_type": "code",
   "execution_count": null,
   "metadata": {},
   "outputs": [],
   "source": [
    "net.input_neurons_num"
   ]
  },
  {
   "cell_type": "code",
   "execution_count": null,
   "metadata": {},
   "outputs": [],
   "source": [
    "net.weight_list"
   ]
  },
  {
   "cell_type": "code",
   "execution_count": null,
   "metadata": {},
   "outputs": [],
   "source": [
    "net.sigmoid_function(0)"
   ]
  },
  {
   "cell_type": "code",
   "execution_count": null,
   "metadata": {},
   "outputs": [],
   "source": [
    "[matrix.shape for matrix in net.create_train_batches(2)]"
   ]
  },
  {
   "cell_type": "code",
   "execution_count": null,
   "metadata": {},
   "outputs": [],
   "source": [
    "np.argmax(net.softmax_function(np.array([1,2,3])))"
   ]
  },
  {
   "cell_type": "code",
   "execution_count": null,
   "metadata": {},
   "outputs": [],
   "source": [
    "net.softmax_function(np.array([1,2,3]))"
   ]
  },
  {
   "cell_type": "code",
   "execution_count": null,
   "metadata": {},
   "outputs": [],
   "source": [
    "net.one_hot_encoded(np.array([1,2,3,4]))"
   ]
  },
  {
   "cell_type": "code",
   "execution_count": null,
   "metadata": {},
   "outputs": [],
   "source": [
    "net.feed_forward(2)"
   ]
  },
  {
   "cell_type": "code",
   "execution_count": null,
   "metadata": {},
   "outputs": [],
   "source": [
    "net.neurons_num_per_layer"
   ]
  },
  {
   "cell_type": "code",
   "execution_count": null,
   "metadata": {},
   "outputs": [],
   "source": [
    "len(net.create_train_batches(2))"
   ]
  },
  {
   "cell_type": "code",
   "execution_count": null,
   "metadata": {},
   "outputs": [],
   "source": [
    "net.back_propagation(net.feed_forward(2))"
   ]
  },
  {
   "cell_type": "code",
   "execution_count": null,
   "metadata": {},
   "outputs": [],
   "source": [
    "net.train_data[:, 0:1]"
   ]
  },
  {
   "cell_type": "code",
   "execution_count": null,
   "metadata": {},
   "outputs": [],
   "source": []
  },
  {
   "cell_type": "code",
   "execution_count": null,
   "metadata": {},
   "outputs": [],
   "source": [
    "#we can write that maybe it would be more suitable to write a class for\n",
    "#layer not network itself"
   ]
  }
 ],
 "metadata": {
  "kernelspec": {
   "display_name": "Python 3",
   "language": "python",
   "name": "python3"
  },
  "language_info": {
   "codemirror_mode": {
    "name": "ipython",
    "version": 3
   },
   "file_extension": ".py",
   "mimetype": "text/x-python",
   "name": "python",
   "nbconvert_exporter": "python",
   "pygments_lexer": "ipython3",
   "version": "3.7.1"
  }
 },
 "nbformat": 4,
 "nbformat_minor": 2
}
