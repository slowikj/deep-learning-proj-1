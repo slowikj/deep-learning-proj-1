{
 "cells": [
  {
   "cell_type": "code",
   "execution_count": 1,
   "metadata": {},
   "outputs": [],
   "source": [
    "import numpy as np"
   ]
  },
  {
   "cell_type": "code",
   "execution_count": 2,
   "metadata": {},
   "outputs": [],
   "source": [
    "import pandas as pd"
   ]
  },
  {
   "cell_type": "code",
   "execution_count": 3,
   "metadata": {},
   "outputs": [],
   "source": [
    "import matplotlib.pyplot as plt"
   ]
  },
  {
   "cell_type": "code",
   "execution_count": 4,
   "metadata": {},
   "outputs": [],
   "source": [
    "data_frame = pd.read_csv(\"./data/mnist_train.csv\", sep=\",\", header=None)"
   ]
  },
  {
   "cell_type": "code",
   "execution_count": 5,
   "metadata": {},
   "outputs": [
    {
     "data": {
      "text/html": [
       "<div>\n",
       "<style scoped>\n",
       "    .dataframe tbody tr th:only-of-type {\n",
       "        vertical-align: middle;\n",
       "    }\n",
       "\n",
       "    .dataframe tbody tr th {\n",
       "        vertical-align: top;\n",
       "    }\n",
       "\n",
       "    .dataframe thead th {\n",
       "        text-align: right;\n",
       "    }\n",
       "</style>\n",
       "<table border=\"1\" class=\"dataframe\">\n",
       "  <thead>\n",
       "    <tr style=\"text-align: right;\">\n",
       "      <th></th>\n",
       "      <th>0</th>\n",
       "      <th>1</th>\n",
       "      <th>2</th>\n",
       "      <th>3</th>\n",
       "      <th>4</th>\n",
       "      <th>5</th>\n",
       "      <th>6</th>\n",
       "      <th>7</th>\n",
       "      <th>8</th>\n",
       "      <th>9</th>\n",
       "      <th>...</th>\n",
       "      <th>775</th>\n",
       "      <th>776</th>\n",
       "      <th>777</th>\n",
       "      <th>778</th>\n",
       "      <th>779</th>\n",
       "      <th>780</th>\n",
       "      <th>781</th>\n",
       "      <th>782</th>\n",
       "      <th>783</th>\n",
       "      <th>784</th>\n",
       "    </tr>\n",
       "  </thead>\n",
       "  <tbody>\n",
       "    <tr>\n",
       "      <th>0</th>\n",
       "      <td>5</td>\n",
       "      <td>0</td>\n",
       "      <td>0</td>\n",
       "      <td>0</td>\n",
       "      <td>0</td>\n",
       "      <td>0</td>\n",
       "      <td>0</td>\n",
       "      <td>0</td>\n",
       "      <td>0</td>\n",
       "      <td>0</td>\n",
       "      <td>...</td>\n",
       "      <td>0</td>\n",
       "      <td>0</td>\n",
       "      <td>0</td>\n",
       "      <td>0</td>\n",
       "      <td>0</td>\n",
       "      <td>0</td>\n",
       "      <td>0</td>\n",
       "      <td>0</td>\n",
       "      <td>0</td>\n",
       "      <td>0</td>\n",
       "    </tr>\n",
       "    <tr>\n",
       "      <th>1</th>\n",
       "      <td>0</td>\n",
       "      <td>0</td>\n",
       "      <td>0</td>\n",
       "      <td>0</td>\n",
       "      <td>0</td>\n",
       "      <td>0</td>\n",
       "      <td>0</td>\n",
       "      <td>0</td>\n",
       "      <td>0</td>\n",
       "      <td>0</td>\n",
       "      <td>...</td>\n",
       "      <td>0</td>\n",
       "      <td>0</td>\n",
       "      <td>0</td>\n",
       "      <td>0</td>\n",
       "      <td>0</td>\n",
       "      <td>0</td>\n",
       "      <td>0</td>\n",
       "      <td>0</td>\n",
       "      <td>0</td>\n",
       "      <td>0</td>\n",
       "    </tr>\n",
       "    <tr>\n",
       "      <th>2</th>\n",
       "      <td>4</td>\n",
       "      <td>0</td>\n",
       "      <td>0</td>\n",
       "      <td>0</td>\n",
       "      <td>0</td>\n",
       "      <td>0</td>\n",
       "      <td>0</td>\n",
       "      <td>0</td>\n",
       "      <td>0</td>\n",
       "      <td>0</td>\n",
       "      <td>...</td>\n",
       "      <td>0</td>\n",
       "      <td>0</td>\n",
       "      <td>0</td>\n",
       "      <td>0</td>\n",
       "      <td>0</td>\n",
       "      <td>0</td>\n",
       "      <td>0</td>\n",
       "      <td>0</td>\n",
       "      <td>0</td>\n",
       "      <td>0</td>\n",
       "    </tr>\n",
       "    <tr>\n",
       "      <th>3</th>\n",
       "      <td>1</td>\n",
       "      <td>0</td>\n",
       "      <td>0</td>\n",
       "      <td>0</td>\n",
       "      <td>0</td>\n",
       "      <td>0</td>\n",
       "      <td>0</td>\n",
       "      <td>0</td>\n",
       "      <td>0</td>\n",
       "      <td>0</td>\n",
       "      <td>...</td>\n",
       "      <td>0</td>\n",
       "      <td>0</td>\n",
       "      <td>0</td>\n",
       "      <td>0</td>\n",
       "      <td>0</td>\n",
       "      <td>0</td>\n",
       "      <td>0</td>\n",
       "      <td>0</td>\n",
       "      <td>0</td>\n",
       "      <td>0</td>\n",
       "    </tr>\n",
       "    <tr>\n",
       "      <th>4</th>\n",
       "      <td>9</td>\n",
       "      <td>0</td>\n",
       "      <td>0</td>\n",
       "      <td>0</td>\n",
       "      <td>0</td>\n",
       "      <td>0</td>\n",
       "      <td>0</td>\n",
       "      <td>0</td>\n",
       "      <td>0</td>\n",
       "      <td>0</td>\n",
       "      <td>...</td>\n",
       "      <td>0</td>\n",
       "      <td>0</td>\n",
       "      <td>0</td>\n",
       "      <td>0</td>\n",
       "      <td>0</td>\n",
       "      <td>0</td>\n",
       "      <td>0</td>\n",
       "      <td>0</td>\n",
       "      <td>0</td>\n",
       "      <td>0</td>\n",
       "    </tr>\n",
       "  </tbody>\n",
       "</table>\n",
       "<p>5 rows × 785 columns</p>\n",
       "</div>"
      ],
      "text/plain": [
       "   0    1    2    3    4    5    6    7    8    9   ...   775  776  777  778  \\\n",
       "0    5    0    0    0    0    0    0    0    0    0 ...     0    0    0    0   \n",
       "1    0    0    0    0    0    0    0    0    0    0 ...     0    0    0    0   \n",
       "2    4    0    0    0    0    0    0    0    0    0 ...     0    0    0    0   \n",
       "3    1    0    0    0    0    0    0    0    0    0 ...     0    0    0    0   \n",
       "4    9    0    0    0    0    0    0    0    0    0 ...     0    0    0    0   \n",
       "\n",
       "   779  780  781  782  783  784  \n",
       "0    0    0    0    0    0    0  \n",
       "1    0    0    0    0    0    0  \n",
       "2    0    0    0    0    0    0  \n",
       "3    0    0    0    0    0    0  \n",
       "4    0    0    0    0    0    0  \n",
       "\n",
       "[5 rows x 785 columns]"
      ]
     },
     "execution_count": 5,
     "metadata": {},
     "output_type": "execute_result"
    }
   ],
   "source": [
    "data_frame.head()"
   ]
  },
  {
   "cell_type": "code",
   "execution_count": 6,
   "metadata": {},
   "outputs": [],
   "source": [
    "data_frame.loc[:, 1:] /= 255.0"
   ]
  },
  {
   "cell_type": "code",
   "execution_count": 7,
   "metadata": {},
   "outputs": [],
   "source": [
    "tmp = data_frame.loc[1, :]"
   ]
  },
  {
   "cell_type": "code",
   "execution_count": 8,
   "metadata": {},
   "outputs": [
    {
     "data": {
      "text/plain": [
       "128    0.200000\n",
       "129    0.623529\n",
       "130    0.992157\n",
       "131    0.623529\n",
       "132    0.196078\n",
       "155    0.188235\n",
       "156    0.933333\n",
       "157    0.988235\n",
       "158    0.988235\n",
       "159    0.988235\n",
       "160    0.929412\n",
       "182    0.211765\n",
       "183    0.890196\n",
       "184    0.992157\n",
       "185    0.988235\n",
       "186    0.937255\n",
       "187    0.913725\n",
       "188    0.988235\n",
       "189    0.223529\n",
       "190    0.023529\n",
       "208    0.039216\n",
       "209    0.235294\n",
       "210    0.878431\n",
       "211    0.988235\n",
       "212    0.992157\n",
       "213    0.988235\n",
       "214    0.792157\n",
       "215    0.329412\n",
       "216    0.988235\n",
       "217    0.992157\n",
       "         ...   \n",
       "577    0.874510\n",
       "578    0.654902\n",
       "579    0.219608\n",
       "595    0.333333\n",
       "596    0.988235\n",
       "597    0.988235\n",
       "598    0.988235\n",
       "599    0.898039\n",
       "600    0.843137\n",
       "601    0.988235\n",
       "602    0.988235\n",
       "603    0.988235\n",
       "604    0.768627\n",
       "605    0.509804\n",
       "623    0.109804\n",
       "624    0.780392\n",
       "625    0.988235\n",
       "626    0.988235\n",
       "627    0.992157\n",
       "628    0.988235\n",
       "629    0.988235\n",
       "630    0.913725\n",
       "631    0.568627\n",
       "652    0.098039\n",
       "653    0.501961\n",
       "654    0.988235\n",
       "655    0.992157\n",
       "656    0.988235\n",
       "657    0.552941\n",
       "658    0.145098\n",
       "Name: 1, Length: 176, dtype: float64"
      ]
     },
     "execution_count": 8,
     "metadata": {},
     "output_type": "execute_result"
    }
   ],
   "source": [
    "tmp[tmp != 0]"
   ]
  },
  {
   "cell_type": "code",
   "execution_count": 9,
   "metadata": {},
   "outputs": [],
   "source": [
    "data=data_frame.as_matrix()"
   ]
  },
  {
   "cell_type": "code",
   "execution_count": 10,
   "metadata": {},
   "outputs": [],
   "source": [
    "image=data[0,1:].reshape((28,28))"
   ]
  },
  {
   "cell_type": "code",
   "execution_count": 11,
   "metadata": {},
   "outputs": [
    {
     "data": {
      "image/png": "[encoded data removed]",
      "text/plain": [
       "<Figure size 432x288 with 1 Axes>"
      ]
     },
     "metadata": {},
     "output_type": "display_data"
    }
   ],
   "source": [
    "plt.imshow(image)\n",
    "plt.show()"
   ]
  },
  {
   "cell_type": "code",
   "execution_count": 12,
   "metadata": {},
   "outputs": [],
   "source": [
    "def show_image(data_matrix, index):\n",
    "\timage=data_matrix[index,1:].reshape((28,28))\n",
    "\tplt.imshow(image)\n",
    "\tplt.show()"
   ]
  },
  {
   "cell_type": "code",
   "execution_count": 13,
   "metadata": {},
   "outputs": [
    {
     "data": {
      "text/plain": [
       "(60000, 785)"
      ]
     },
     "execution_count": 13,
     "metadata": {},
     "output_type": "execute_result"
    }
   ],
   "source": [
    "data.shape"
   ]
  },
  {
   "cell_type": "code",
   "execution_count": 14,
   "metadata": {},
   "outputs": [
    {
     "data": {
      "image/png": "[encoded data removed]",
      "text/plain": [
       "<Figure size 432x288 with 1 Axes>"
      ]
     },
     "metadata": {},
     "output_type": "display_data"
    }
   ],
   "source": [
    "show_image(data, 0)"
   ]
  },
  {
   "cell_type": "code",
   "execution_count": 311,
   "metadata": {},
   "outputs": [],
   "source": [
    "class Network(object):\n",
    "    \n",
    "    def __init__(self, train_data, hidden_layer_neurons_num, learning_rate = 0.05, activation_functions = None):\n",
    "        self.number_of_classes = 10\n",
    "        self.train_data = train_data\n",
    "        self.learning_rate = learning_rate\n",
    "        train_data_without_labels = train_data[:,1:]\n",
    "        self.input_neurons_num = train_data_without_labels.shape[0] \\\n",
    "            if len(train_data_without_labels.shape) == 1 \\\n",
    "            else train_data_without_labels.shape[1]\n",
    "        self.neurons_num_per_layer = [self.input_neurons_num] + hidden_layer_neurons_num + [self.number_of_classes]\n",
    "        self.layers_num = len(self.neurons_num_per_layer)\n",
    "        self.activation_functions = [lambda x: self.sigmoid_function(x)] * (self.layers_num - 2) + \\\n",
    "            [lambda x: self.softmax_function(x)] \n",
    "        self.weight_list = [np.random.randn(current_layer_num, next_layer_num) \\\n",
    "                       for (current_layer_num, next_layer_num) in \\\n",
    "                            zip(self.neurons_num_per_layer, self.neurons_num_per_layer[1:])]\n",
    "        \n",
    "        self.bias_list = [np.random.randn(1, layer_num) for layer_num in self.neurons_num_per_layer[1:]]\n",
    "        \n",
    "    def main(self, batch_size):\n",
    "        train_batches = self.create_train_batches(batch_size)\n",
    "        self.feed_forward(train_batches)\n",
    "        # TODO: finish\n",
    "        \n",
    "  \n",
    "    def feed_forward(self, train_batches):\n",
    "        for train_batch in train_batches:\n",
    "            labels = np.transpose(self.one_hot_encoded(train_batch[:, 0:1]))\n",
    "            train_batch_features = train_batch[:, 1:]\n",
    "            layer_output = [train_batch_features]\n",
    "            u = []\n",
    "            for activation_function, w, b in zip(self.activation_functions, \\\n",
    "                                                 self.weight_list, \\\n",
    "                                                 self.bias_list):\n",
    "                u.append(np.matmul(layer_output[-1], w) + b)\n",
    "                layer_output.append(activation_function(u[-1]))\n",
    "            \n",
    "            print(\"aaa {0}\".format(u[-1].shape))\n",
    "            print(\"bbb {0}\".format(self.softmax_derivative(u[-1]).shape))\n",
    "            delta = [(layer_output[-1] - labels).T * self.softmax_derivative(u[-1])]\n",
    "            for layer_num in reversed(range(1, self.layers_num - 1)):\n",
    "                print(\"delta {0}\".format(delta[-1].shape))\n",
    "                print(\"weight_list {0}\".format((self.weight_list[layer_num]).shape))\n",
    "                print(\"u[layer_num] {0}\".format(u[layer_num].shape))\n",
    "                print(\"sigm_der {0}\".format(self.sigmoid_derivative(u[layer_num]).shape))\n",
    "                delta.append(np.matmul(self.weight_list[layer_num], delta[-1]) \\\n",
    "                             * self.sigmoid_derivative(u[layer_num]))\n",
    "            delta = list(reversed(delta))\n",
    "            \n",
    "            grad_w = []\n",
    "            grad_b = delta.copy()\n",
    "            for activ, d, _u in zip(self.activation_functions, delta, u):\n",
    "                grad_w.append(d * activ(_u).T)\n",
    "            \n",
    "            new_weight_list = [(w - self.learning_rate * gw) \\\n",
    "                               for w, gw in zip(self.weight_list, grad_w)]\n",
    "            self.weight_list = new_weight_list\n",
    "            \n",
    "            new_bias_list = [ (b - self.learning_rate * gb) \\\n",
    "                             for b, gb in zip(self.bias_list, grad_b)]\n",
    "            self.bias_list = new_bias_list\n",
    "            \n",
    "    def softmax_derivative(self, probabilities):\n",
    "        probabilities = np.asarray(probabilities[0]).reshape(probabilities.shape[1])\n",
    "        diff_output=np.zeros([self.number_of_classes, self.number_of_classes])\n",
    "        for row in range (diff_output.shape[0]):\n",
    "            for col in range (diff_output.shape[1]):\n",
    "                if (col==row):\n",
    "                    print(\"res {0}\".format(probabilities[row]))\n",
    "                    diff_output[col,row]=probabilities[row]*(1-probabilities[col])\n",
    "                else:\n",
    "                    diff_output[col,row]=-probabilities[row]*probabilities[col]\n",
    "        return diff_output\n",
    "                             \n",
    "    def sigmoid_derivative(self, u):\n",
    "        diff_output=u*(1-u)\n",
    "        return diff_output\n",
    "        \n",
    "    def tanh_derivative(self, u):\n",
    "        diff_output=1-(u)^2\n",
    "        return diff_output\n",
    "         \n",
    "    def create_train_batches(self, batch_size):\n",
    "        rows_num = self.train_data.shape[0]\n",
    "        n = int(np.ceil(rows_num / batch_size))\n",
    "        return [self.train_data[(i * batch_size):min((i + 1) * batch_size, rows_num)] for i in range(n)]\n",
    "    \n",
    "    def one_hot_encoded(self, train_labels):\n",
    "        train_labels = train_labels.astype(int)\n",
    "        res = np.zeros((self.number_of_classes, train_labels.shape[0]))\n",
    "        res[train_labels, np.arange(res.shape[1])] = 1\n",
    "        return res\n",
    "        \n",
    "    def sigmoid_function(self, x):\n",
    "        return 1 / (1 + np.exp(-x))\n",
    "    \n",
    "    def softmax_function(self, x):\n",
    "        return np.exp(x) / np.sum(np.exp(x)) \n",
    "        "
   ]
  },
  {
   "cell_type": "code",
   "execution_count": 312,
   "metadata": {},
   "outputs": [],
   "source": [
    "net = Network(data[1:10], [2,3])"
   ]
  },
  {
   "cell_type": "code",
   "execution_count": 313,
   "metadata": {},
   "outputs": [
    {
     "data": {
      "text/plain": [
       "[(784, 2), (2, 3), (3, 10)]"
      ]
     },
     "execution_count": 313,
     "metadata": {},
     "output_type": "execute_result"
    }
   ],
   "source": [
    "[matrix.shape for matrix in net.weight_list]"
   ]
  },
  {
   "cell_type": "code",
   "execution_count": 314,
   "metadata": {},
   "outputs": [
    {
     "data": {
      "text/plain": [
       "784"
      ]
     },
     "execution_count": 314,
     "metadata": {},
     "output_type": "execute_result"
    }
   ],
   "source": [
    "net.input_neurons_num"
   ]
  },
  {
   "cell_type": "code",
   "execution_count": 315,
   "metadata": {},
   "outputs": [
    {
     "data": {
      "text/plain": [
       "[array([[ 0.20438608,  0.15545747],\n",
       "        [ 0.10487235,  0.55282862],\n",
       "        [-1.34471012,  0.11914403],\n",
       "        ...,\n",
       "        [-0.63372406,  0.21820184],\n",
       "        [-1.4111264 ,  1.23897305],\n",
       "        [-0.02587423, -1.97079923]]),\n",
       " array([[-0.58189624,  0.10655305, -0.90973188],\n",
       "        [ 2.11725494,  1.54761802,  0.5031853 ]]),\n",
       " array([[-0.75562923,  1.24322485,  0.80743515, -0.05979515, -0.1863865 ,\n",
       "          0.02431888,  1.51202409,  1.01625835,  0.54879288, -2.40275221],\n",
       "        [-0.65537247,  2.28276306, -0.69962793,  0.46493761, -0.60896599,\n",
       "         -0.56763159,  1.00806413,  0.03744628,  1.18271655, -0.99063389],\n",
       "        [-0.99203984,  0.20030638,  0.466503  , -0.97772002,  1.81269635,\n",
       "         -0.74805912, -0.71578558,  0.51155473,  0.23017569, -2.30791329]])]"
      ]
     },
     "execution_count": 315,
     "metadata": {},
     "output_type": "execute_result"
    }
   ],
   "source": [
    "net.weight_list"
   ]
  },
  {
   "cell_type": "code",
   "execution_count": 316,
   "metadata": {},
   "outputs": [
    {
     "data": {
      "text/plain": [
       "0.5"
      ]
     },
     "execution_count": 316,
     "metadata": {},
     "output_type": "execute_result"
    }
   ],
   "source": [
    "net.sigmoid_function(0)"
   ]
  },
  {
   "cell_type": "code",
   "execution_count": 317,
   "metadata": {},
   "outputs": [
    {
     "data": {
      "text/plain": [
       "[(2, 785), (2, 785), (2, 785), (2, 785), (1, 785)]"
      ]
     },
     "execution_count": 317,
     "metadata": {},
     "output_type": "execute_result"
    }
   ],
   "source": [
    "[matrix.shape for matrix in net.create_train_batches(2)]"
   ]
  },
  {
   "cell_type": "code",
   "execution_count": 318,
   "metadata": {},
   "outputs": [
    {
     "data": {
      "text/plain": [
       "2"
      ]
     },
     "execution_count": 318,
     "metadata": {},
     "output_type": "execute_result"
    }
   ],
   "source": [
    "np.argmax(net.softmax_function(np.array([1,2,3])))"
   ]
  },
  {
   "cell_type": "code",
   "execution_count": 319,
   "metadata": {},
   "outputs": [
    {
     "data": {
      "text/plain": [
       "array([0.09003057, 0.24472847, 0.66524096])"
      ]
     },
     "execution_count": 319,
     "metadata": {},
     "output_type": "execute_result"
    }
   ],
   "source": [
    "net.softmax_function(np.array([1,2,3]))"
   ]
  },
  {
   "cell_type": "code",
   "execution_count": 320,
   "metadata": {},
   "outputs": [
    {
     "data": {
      "text/plain": [
       "array([[0., 0., 0., 0.],\n",
       "       [1., 0., 0., 0.],\n",
       "       [0., 1., 0., 0.],\n",
       "       [0., 0., 1., 0.],\n",
       "       [0., 0., 0., 1.],\n",
       "       [0., 0., 0., 0.],\n",
       "       [0., 0., 0., 0.],\n",
       "       [0., 0., 0., 0.],\n",
       "       [0., 0., 0., 0.],\n",
       "       [0., 0., 0., 0.]])"
      ]
     },
     "execution_count": 320,
     "metadata": {},
     "output_type": "execute_result"
    }
   ],
   "source": [
    "net.one_hot_encoded(np.array([1,2,3,4]))"
   ]
  },
  {
   "cell_type": "code",
   "execution_count": 321,
   "metadata": {},
   "outputs": [
    {
     "name": "stdout",
     "output_type": "stream",
     "text": [
      "aaa (1, 10)\n",
      "res -1.9151474158494164\n",
      "res 3.5319608158864817\n",
      "res -0.48447452277281455\n",
      "res 0.47139872577210257\n",
      "res 0.2809679005090782\n",
      "res 0.5114854425714394\n",
      "res 0.1535288989904786\n",
      "res 0.7192657410900436\n",
      "res 0.2308679698592495\n",
      "res -4.402246385712147\n",
      "bbb (10, 10)\n",
      "res -1.9151474158494164\n",
      "res 3.5319608158864817\n",
      "res -0.48447452277281455\n",
      "res 0.47139872577210257\n",
      "res 0.2809679005090782\n",
      "res 0.5114854425714394\n",
      "res 0.1535288989904786\n",
      "res 0.7192657410900436\n",
      "res 0.2308679698592495\n",
      "res -4.402246385712147\n",
      "delta (10, 10)\n",
      "weight_list (3, 10)\n",
      "u[layer_num] (1, 10)\n",
      "sigm_der (1, 10)\n",
      "delta (3, 10)\n",
      "weight_list (2, 3)\n",
      "u[layer_num] (1, 3)\n",
      "sigm_der (1, 3)\n"
     ]
    },
    {
     "ename": "ValueError",
     "evalue": "operands could not be broadcast together with shapes (2,10) (1,3) ",
     "output_type": "error",
     "traceback": [
      "\u001b[0;31m---------------------------------------------------------------------------\u001b[0m",
      "\u001b[0;31mValueError\u001b[0m                                Traceback (most recent call last)",
      "\u001b[0;32m<ipython-input-321-c8b27327f791>\u001b[0m in \u001b[0;36m<module>\u001b[0;34m()\u001b[0m\n\u001b[0;32m----> 1\u001b[0;31m \u001b[0mnet\u001b[0m\u001b[0;34m.\u001b[0m\u001b[0mmain\u001b[0m\u001b[0;34m(\u001b[0m\u001b[0;36m1\u001b[0m\u001b[0;34m)\u001b[0m\u001b[0;34m\u001b[0m\u001b[0m\n\u001b[0m",
      "\u001b[0;32m<ipython-input-311-769e6e0d6e46>\u001b[0m in \u001b[0;36mmain\u001b[0;34m(self, batch_size)\u001b[0m\n\u001b[1;32m     16\u001b[0m     \u001b[0;32mdef\u001b[0m \u001b[0mmain\u001b[0m\u001b[0;34m(\u001b[0m\u001b[0mself\u001b[0m\u001b[0;34m,\u001b[0m \u001b[0mbatch_size\u001b[0m\u001b[0;34m)\u001b[0m\u001b[0;34m:\u001b[0m\u001b[0;34m\u001b[0m\u001b[0m\n\u001b[1;32m     17\u001b[0m         \u001b[0mtrain_batches\u001b[0m \u001b[0;34m=\u001b[0m \u001b[0mself\u001b[0m\u001b[0;34m.\u001b[0m\u001b[0mcreate_train_batches\u001b[0m\u001b[0;34m(\u001b[0m\u001b[0mbatch_size\u001b[0m\u001b[0;34m)\u001b[0m\u001b[0;34m\u001b[0m\u001b[0m\n\u001b[0;32m---> 18\u001b[0;31m         \u001b[0mself\u001b[0m\u001b[0;34m.\u001b[0m\u001b[0mfeed_forward\u001b[0m\u001b[0;34m(\u001b[0m\u001b[0mtrain_batches\u001b[0m\u001b[0;34m)\u001b[0m\u001b[0;34m\u001b[0m\u001b[0m\n\u001b[0m\u001b[1;32m     19\u001b[0m         \u001b[0;31m# TODO: finish\u001b[0m\u001b[0;34m\u001b[0m\u001b[0;34m\u001b[0m\u001b[0m\n\u001b[1;32m     20\u001b[0m \u001b[0;34m\u001b[0m\u001b[0m\n",
      "\u001b[0;32m<ipython-input-311-769e6e0d6e46>\u001b[0m in \u001b[0;36mfeed_forward\u001b[0;34m(self, train_batches)\u001b[0m\n\u001b[1;32m     38\u001b[0m                 \u001b[0mprint\u001b[0m\u001b[0;34m(\u001b[0m\u001b[0;34m\"u[layer_num] {0}\"\u001b[0m\u001b[0;34m.\u001b[0m\u001b[0mformat\u001b[0m\u001b[0;34m(\u001b[0m\u001b[0mu\u001b[0m\u001b[0;34m[\u001b[0m\u001b[0mlayer_num\u001b[0m\u001b[0;34m]\u001b[0m\u001b[0;34m.\u001b[0m\u001b[0mshape\u001b[0m\u001b[0;34m)\u001b[0m\u001b[0;34m)\u001b[0m\u001b[0;34m\u001b[0m\u001b[0m\n\u001b[1;32m     39\u001b[0m                 \u001b[0mprint\u001b[0m\u001b[0;34m(\u001b[0m\u001b[0;34m\"sigm_der {0}\"\u001b[0m\u001b[0;34m.\u001b[0m\u001b[0mformat\u001b[0m\u001b[0;34m(\u001b[0m\u001b[0mself\u001b[0m\u001b[0;34m.\u001b[0m\u001b[0msigmoid_derivative\u001b[0m\u001b[0;34m(\u001b[0m\u001b[0mu\u001b[0m\u001b[0;34m[\u001b[0m\u001b[0mlayer_num\u001b[0m\u001b[0;34m]\u001b[0m\u001b[0;34m)\u001b[0m\u001b[0;34m.\u001b[0m\u001b[0mshape\u001b[0m\u001b[0;34m)\u001b[0m\u001b[0;34m)\u001b[0m\u001b[0;34m\u001b[0m\u001b[0m\n\u001b[0;32m---> 40\u001b[0;31m                 \u001b[0mdelta\u001b[0m\u001b[0;34m.\u001b[0m\u001b[0mappend\u001b[0m\u001b[0;34m(\u001b[0m\u001b[0mnp\u001b[0m\u001b[0;34m.\u001b[0m\u001b[0mmatmul\u001b[0m\u001b[0;34m(\u001b[0m\u001b[0mself\u001b[0m\u001b[0;34m.\u001b[0m\u001b[0mweight_list\u001b[0m\u001b[0;34m[\u001b[0m\u001b[0mlayer_num\u001b[0m\u001b[0;34m]\u001b[0m\u001b[0;34m,\u001b[0m \u001b[0mdelta\u001b[0m\u001b[0;34m[\u001b[0m\u001b[0;34m-\u001b[0m\u001b[0;36m1\u001b[0m\u001b[0;34m]\u001b[0m\u001b[0;34m)\u001b[0m                              \u001b[0;34m*\u001b[0m \u001b[0mself\u001b[0m\u001b[0;34m.\u001b[0m\u001b[0msigmoid_derivative\u001b[0m\u001b[0;34m(\u001b[0m\u001b[0mu\u001b[0m\u001b[0;34m[\u001b[0m\u001b[0mlayer_num\u001b[0m\u001b[0;34m]\u001b[0m\u001b[0;34m)\u001b[0m\u001b[0;34m)\u001b[0m\u001b[0;34m\u001b[0m\u001b[0m\n\u001b[0m\u001b[1;32m     41\u001b[0m             \u001b[0mdelta\u001b[0m \u001b[0;34m=\u001b[0m \u001b[0mlist\u001b[0m\u001b[0;34m(\u001b[0m\u001b[0mreversed\u001b[0m\u001b[0;34m(\u001b[0m\u001b[0mdelta\u001b[0m\u001b[0;34m)\u001b[0m\u001b[0;34m)\u001b[0m\u001b[0;34m\u001b[0m\u001b[0m\n\u001b[1;32m     42\u001b[0m \u001b[0;34m\u001b[0m\u001b[0m\n",
      "\u001b[0;31mValueError\u001b[0m: operands could not be broadcast together with shapes (2,10) (1,3) "
     ]
    }
   ],
   "source": [
    "net.main(1)"
   ]
  },
  {
   "cell_type": "code",
   "execution_count": 310,
   "metadata": {},
   "outputs": [
    {
     "data": {
      "text/plain": [
       "[784, 2, 3, 10]"
      ]
     },
     "execution_count": 310,
     "metadata": {},
     "output_type": "execute_result"
    }
   ],
   "source": [
    "net.neurons_num_per_layer"
   ]
  },
  {
   "cell_type": "code",
   "execution_count": null,
   "metadata": {},
   "outputs": [],
   "source": [
    "len(net.create_train_batches(2))"
   ]
  },
  {
   "cell_type": "code",
   "execution_count": null,
   "metadata": {},
   "outputs": [],
   "source": [
    "net.back_propagation(net.feed_forward(2))"
   ]
  },
  {
   "cell_type": "code",
   "execution_count": null,
   "metadata": {},
   "outputs": [],
   "source": [
    "net.train_data[:, 0:1]"
   ]
  },
  {
   "cell_type": "code",
   "execution_count": null,
   "metadata": {},
   "outputs": [],
   "source": []
  },
  {
   "cell_type": "code",
   "execution_count": null,
   "metadata": {},
   "outputs": [],
   "source": []
  }
 ],
 "metadata": {
  "kernelspec": {
   "display_name": "Python 3",
   "language": "python",
   "name": "python3"
  },
  "language_info": {
   "codemirror_mode": {
    "name": "ipython",
    "version": 3
   },
   "file_extension": ".py",
   "mimetype": "text/x-python",
   "name": "python",
   "nbconvert_exporter": "python",
   "pygments_lexer": "ipython3",
   "version": "3.5.2"
  }
 },
 "nbformat": 4,
 "nbformat_minor": 2
}
