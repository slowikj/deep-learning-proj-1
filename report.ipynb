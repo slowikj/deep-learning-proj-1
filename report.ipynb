{
 "cells": [
  {
   "cell_type": "code",
   "execution_count": 1,
   "metadata": {},
   "outputs": [],
   "source": [
    "import numpy as np"
   ]
  },
  {
   "cell_type": "code",
   "execution_count": 2,
   "metadata": {},
   "outputs": [],
   "source": [
    "import pandas as pd"
   ]
  },
  {
   "cell_type": "code",
   "execution_count": 3,
   "metadata": {},
   "outputs": [],
   "source": [
    "import matplotlib.pyplot as plt"
   ]
  },
  {
   "cell_type": "code",
   "execution_count": 4,
   "metadata": {},
   "outputs": [],
   "source": [
    "data_frame = pd.read_csv(\"./data/mnist_train.csv\", sep=\",\", header=None)"
   ]
  },
  {
   "cell_type": "code",
   "execution_count": 5,
   "metadata": {},
   "outputs": [
    {
     "data": {
      "text/html": [
       "<div>\n",
       "<style scoped>\n",
       "    .dataframe tbody tr th:only-of-type {\n",
       "        vertical-align: middle;\n",
       "    }\n",
       "\n",
       "    .dataframe tbody tr th {\n",
       "        vertical-align: top;\n",
       "    }\n",
       "\n",
       "    .dataframe thead th {\n",
       "        text-align: right;\n",
       "    }\n",
       "</style>\n",
       "<table border=\"1\" class=\"dataframe\">\n",
       "  <thead>\n",
       "    <tr style=\"text-align: right;\">\n",
       "      <th></th>\n",
       "      <th>0</th>\n",
       "      <th>1</th>\n",
       "      <th>2</th>\n",
       "      <th>3</th>\n",
       "      <th>4</th>\n",
       "      <th>5</th>\n",
       "      <th>6</th>\n",
       "      <th>7</th>\n",
       "      <th>8</th>\n",
       "      <th>9</th>\n",
       "      <th>...</th>\n",
       "      <th>775</th>\n",
       "      <th>776</th>\n",
       "      <th>777</th>\n",
       "      <th>778</th>\n",
       "      <th>779</th>\n",
       "      <th>780</th>\n",
       "      <th>781</th>\n",
       "      <th>782</th>\n",
       "      <th>783</th>\n",
       "      <th>784</th>\n",
       "    </tr>\n",
       "  </thead>\n",
       "  <tbody>\n",
       "    <tr>\n",
       "      <th>0</th>\n",
       "      <td>5</td>\n",
       "      <td>0</td>\n",
       "      <td>0</td>\n",
       "      <td>0</td>\n",
       "      <td>0</td>\n",
       "      <td>0</td>\n",
       "      <td>0</td>\n",
       "      <td>0</td>\n",
       "      <td>0</td>\n",
       "      <td>0</td>\n",
       "      <td>...</td>\n",
       "      <td>0</td>\n",
       "      <td>0</td>\n",
       "      <td>0</td>\n",
       "      <td>0</td>\n",
       "      <td>0</td>\n",
       "      <td>0</td>\n",
       "      <td>0</td>\n",
       "      <td>0</td>\n",
       "      <td>0</td>\n",
       "      <td>0</td>\n",
       "    </tr>\n",
       "    <tr>\n",
       "      <th>1</th>\n",
       "      <td>0</td>\n",
       "      <td>0</td>\n",
       "      <td>0</td>\n",
       "      <td>0</td>\n",
       "      <td>0</td>\n",
       "      <td>0</td>\n",
       "      <td>0</td>\n",
       "      <td>0</td>\n",
       "      <td>0</td>\n",
       "      <td>0</td>\n",
       "      <td>...</td>\n",
       "      <td>0</td>\n",
       "      <td>0</td>\n",
       "      <td>0</td>\n",
       "      <td>0</td>\n",
       "      <td>0</td>\n",
       "      <td>0</td>\n",
       "      <td>0</td>\n",
       "      <td>0</td>\n",
       "      <td>0</td>\n",
       "      <td>0</td>\n",
       "    </tr>\n",
       "    <tr>\n",
       "      <th>2</th>\n",
       "      <td>4</td>\n",
       "      <td>0</td>\n",
       "      <td>0</td>\n",
       "      <td>0</td>\n",
       "      <td>0</td>\n",
       "      <td>0</td>\n",
       "      <td>0</td>\n",
       "      <td>0</td>\n",
       "      <td>0</td>\n",
       "      <td>0</td>\n",
       "      <td>...</td>\n",
       "      <td>0</td>\n",
       "      <td>0</td>\n",
       "      <td>0</td>\n",
       "      <td>0</td>\n",
       "      <td>0</td>\n",
       "      <td>0</td>\n",
       "      <td>0</td>\n",
       "      <td>0</td>\n",
       "      <td>0</td>\n",
       "      <td>0</td>\n",
       "    </tr>\n",
       "    <tr>\n",
       "      <th>3</th>\n",
       "      <td>1</td>\n",
       "      <td>0</td>\n",
       "      <td>0</td>\n",
       "      <td>0</td>\n",
       "      <td>0</td>\n",
       "      <td>0</td>\n",
       "      <td>0</td>\n",
       "      <td>0</td>\n",
       "      <td>0</td>\n",
       "      <td>0</td>\n",
       "      <td>...</td>\n",
       "      <td>0</td>\n",
       "      <td>0</td>\n",
       "      <td>0</td>\n",
       "      <td>0</td>\n",
       "      <td>0</td>\n",
       "      <td>0</td>\n",
       "      <td>0</td>\n",
       "      <td>0</td>\n",
       "      <td>0</td>\n",
       "      <td>0</td>\n",
       "    </tr>\n",
       "    <tr>\n",
       "      <th>4</th>\n",
       "      <td>9</td>\n",
       "      <td>0</td>\n",
       "      <td>0</td>\n",
       "      <td>0</td>\n",
       "      <td>0</td>\n",
       "      <td>0</td>\n",
       "      <td>0</td>\n",
       "      <td>0</td>\n",
       "      <td>0</td>\n",
       "      <td>0</td>\n",
       "      <td>...</td>\n",
       "      <td>0</td>\n",
       "      <td>0</td>\n",
       "      <td>0</td>\n",
       "      <td>0</td>\n",
       "      <td>0</td>\n",
       "      <td>0</td>\n",
       "      <td>0</td>\n",
       "      <td>0</td>\n",
       "      <td>0</td>\n",
       "      <td>0</td>\n",
       "    </tr>\n",
       "  </tbody>\n",
       "</table>\n",
       "<p>5 rows × 785 columns</p>\n",
       "</div>"
      ],
      "text/plain": [
       "   0    1    2    3    4    5    6    7    8    9   ...   775  776  777  778  \\\n",
       "0    5    0    0    0    0    0    0    0    0    0 ...     0    0    0    0   \n",
       "1    0    0    0    0    0    0    0    0    0    0 ...     0    0    0    0   \n",
       "2    4    0    0    0    0    0    0    0    0    0 ...     0    0    0    0   \n",
       "3    1    0    0    0    0    0    0    0    0    0 ...     0    0    0    0   \n",
       "4    9    0    0    0    0    0    0    0    0    0 ...     0    0    0    0   \n",
       "\n",
       "   779  780  781  782  783  784  \n",
       "0    0    0    0    0    0    0  \n",
       "1    0    0    0    0    0    0  \n",
       "2    0    0    0    0    0    0  \n",
       "3    0    0    0    0    0    0  \n",
       "4    0    0    0    0    0    0  \n",
       "\n",
       "[5 rows x 785 columns]"
      ]
     },
     "execution_count": 5,
     "metadata": {},
     "output_type": "execute_result"
    }
   ],
   "source": [
    "data_frame.head()"
   ]
  },
  {
   "cell_type": "code",
   "execution_count": 6,
   "metadata": {},
   "outputs": [],
   "source": [
    "data_frame.loc[:, 1:] /= 255.0"
   ]
  },
  {
   "cell_type": "code",
   "execution_count": 7,
   "metadata": {},
   "outputs": [],
   "source": [
    "data=data_frame.as_matrix()"
   ]
  },
  {
   "cell_type": "code",
   "execution_count": 10,
   "metadata": {},
   "outputs": [
    {
     "data": {
      "text/plain": [
       "5.0"
      ]
     },
     "execution_count": 10,
     "metadata": {},
     "output_type": "execute_result"
    }
   ],
   "source": [
    "image=data[0,1:].reshape((28,28))\n",
    "data[0,0]"
   ]
  },
  {
   "cell_type": "code",
   "execution_count": 11,
   "metadata": {},
   "outputs": [
    {
     "data": {
      "image/png": "[encoded data removed]",
      "text/plain": [
       "<Figure size 432x288 with 1 Axes>"
      ]
     },
     "metadata": {},
     "output_type": "display_data"
    }
   ],
   "source": [
    "plt.imshow(image)\n",
    "plt.show()"
   ]
  },
  {
   "cell_type": "code",
   "execution_count": 12,
   "metadata": {},
   "outputs": [],
   "source": [
    "#create validation set\n",
    "np.random.shuffle(data)\n",
    "train_data=data[0:50000,:]\n",
    "val_data=data[50000:,:]\n"
   ]
  },
  {
   "cell_type": "markdown",
   "metadata": {},
   "source": [
    "# Funkcje aktywacji wraz z ich pochodnymi"
   ]
  },
  {
   "cell_type": "code",
   "execution_count": 149,
   "metadata": {},
   "outputs": [],
   "source": [
    "def sigmoid_function(x):\n",
    "    return 1 / (1 + np.exp(-x))\n",
    "\n",
    "def softmax_function(x):\n",
    "    return np.exp(x) / np.sum(np.exp(x))\n",
    "\n",
    "def softmax_derivative(probabilities, layer_inputs):\n",
    "    number_of_classes = probabilities.shape[0]\n",
    "    diff_output = np.zeros([number_of_classes, number_of_classes])\n",
    "    for row in range(diff_output.shape[0]):\n",
    "        for col in range(diff_output.shape[1]):\n",
    "            if (col == row):\n",
    "                diff_output[row, col] = probabilities[row, 0] * (1 - probabilities[col, 0])\n",
    "            else:\n",
    "                diff_output[row, col] = -probabilities[row, 0] * probabilities[col, 0]\n",
    "    return np.matmul(diff_output, layer_inputs)\n",
    "\n",
    "def sigmoid_derivative(u):\n",
    "    sigmoid_value = sigmoid_function(u)\n",
    "    diff_output = sigmoid_value * (1 - sigmoid_value)\n",
    "    return diff_output\n",
    "\n",
    "def tanh_derivative(u):\n",
    "    tanh_value = tanh_function(u)\n",
    "    diff_output = 1 - np.power(tanh_value, 2)\n",
    "    return diff_output\n",
    "\n",
    "def tanh_function(x):\n",
    "    return np.tanh(x)"
   ]
  },
  {
   "cell_type": "markdown",
   "metadata": {},
   "source": [
    "# Implementacja sieci neuronowej"
   ]
  },
  {
   "cell_type": "code",
   "execution_count": 306,
   "metadata": {},
   "outputs": [],
   "source": [
    "import numpy as np\n",
    "from random import shuffle\n",
    "from sklearn.metrics import mean_squared_error\n",
    "\n",
    "class Network(object):\n",
    "    \n",
    "    @staticmethod\n",
    "    def get_activation_functions_with_deriv():\n",
    "        return {\n",
    "            \"sigmoid\": [sigmoid_function, sigmoid_derivative],\n",
    "            \"tanh\": [tanh_function, tanh_derivative]\n",
    "        }\n",
    "    \n",
    "    @staticmethod\n",
    "    def get_error_functions():\n",
    "        return {\n",
    "            \"mse\": lambda out, lab: mean_squared_error(out, lab),\n",
    "            \"cross_entropy\": lambda out, lab: mean_squared_error(out, lab) # TODO: napisac wzor, np.sum(labels[:,i]*np.log(layer_outputs[-1]) + (1-labels[:,i])*np.log(1-layer_outputs[-1]))\n",
    "        }\n",
    "    \n",
    "    @staticmethod\n",
    "    def get_cost_functions():\n",
    "        return {\n",
    "            \"mse\": lambda outputs, inputs, labels, deriv: (outputs - labels) * \\\n",
    "                                                           deriv(outputs, inputs),\n",
    "            \"cross_entropy\": lambda outputs, inputs, labels, deriv: outputs - labels\n",
    "        }\n",
    "    \n",
    "    def __init__(self,\n",
    "                 input_neurons_num,\n",
    "                 hidden_layer_neurons_num,\n",
    "                 hidden_activation_functions_names,\n",
    "                 learning_rate=0.04,\n",
    "                 error_function_name=\"cross_entropy\"):\n",
    "        self.input_neurons_num = input_neurons_num\n",
    "        self.number_of_classes = 10\n",
    "        self.learning_rate = learning_rate\n",
    "        self.neurons_num_per_layer = [self.input_neurons_num] + hidden_layer_neurons_num + [self.number_of_classes]\n",
    "        self.layers_num = len(self.neurons_num_per_layer)\n",
    "        self.activation_functions = self.__get_activation_functions(hidden_activation_functions_names)\n",
    "        self.activation_deriv_functions = self.__get_deriv_activation_functions(hidden_activation_functions_names)\n",
    "        self.error_function = Network.get_error_functions()[error_function_name]\n",
    "        self.cost_function = Network.get_cost_functions()[error_function_name]\n",
    "        self.weight_list = Network.__get_weight_list(self.neurons_num_per_layer)\n",
    "        self.bias_list = Network.__get_bias_list(self.neurons_num_per_layer)\n",
    "\n",
    "    def __get_deriv_activation_functions(self, inner_activation_functions_names):\n",
    "        functions = Network.__transform_to_activation_func_with_deriv(inner_activation_functions_names)\n",
    "        return list(map(lambda x: x[1], functions)) + \\\n",
    "            [lambda prob, layer_inputs: softmax_derivative(probabilities=prob, layer_inputs=layer_inputs)]\n",
    "    \n",
    "    def __get_activation_functions(self, inner_activation_functions_names):\n",
    "        functions = Network.__transform_to_activation_func_with_deriv(inner_activation_functions_names)\n",
    "        return list(map(lambda x: x[0], functions)) + \\\n",
    "            [lambda x: softmax_function(x)]\n",
    "    \n",
    "    @staticmethod\n",
    "    def __transform_to_activation_func_with_deriv(inner_activation_functions_names):\n",
    "        functions = Network.get_activation_functions_with_deriv()\n",
    "        return map(lambda name: functions[name], inner_activation_functions_names)\n",
    "        \n",
    "    @staticmethod\n",
    "    def __get_bias_list(neurons_num_per_layer):\n",
    "        return [np.random.randn(layer_num, 1) for layer_num in neurons_num_per_layer[1:]]\n",
    "\n",
    "    @staticmethod\n",
    "    def __get_weight_list(neurons_num_per_layer):\n",
    "        # Xavier initialization\n",
    "        return [np.random.randn(next_layer_num, current_layer_num) *\n",
    "                np.sqrt(1 / (next_layer_num + current_layer_num))\n",
    "                for (current_layer_num, next_layer_num) in zip(neurons_num_per_layer, neurons_num_per_layer[1:])]\n",
    "\n",
    "    def train(self, train_data, val_data, train_batch_size, epochs):\n",
    "        train_avg_mse_per_epoch = np.zeros(epochs)\n",
    "        val_avg_mse_per_epoch = np.zeros(epochs)\n",
    "        for epoch in range(epochs):\n",
    "            np.random.shuffle(train_data)\n",
    "            train_batches = Network.__create_batches(train_data, train_batch_size)\n",
    "            train_mse = self.__train_one_epoch(train_batches)\n",
    "            train_avg_mse_per_epoch[epoch] = train_mse / train_data.shape[0]\n",
    "            _, val_mse = self.predict(val_data)\n",
    "            val_avg_mse_per_epoch[epoch] = val_mse / val_data.shape[0]\n",
    "        return train_avg_mse_per_epoch, val_avg_mse_per_epoch\n",
    "\n",
    "    def predict(self, test_data):\n",
    "        labels = Network.one_hot_encoded(test_data[:, 0], self.number_of_classes)\n",
    "        features = test_data[:, 1:]\n",
    "        res = []\n",
    "        diff = 0\n",
    "        stat = np.zeros((test_data.shape[0], 2))\n",
    "        for i in range(len(test_data)):\n",
    "            _, layer_output_list = self.__feed_forward(features[i, :])\n",
    "            output = layer_output_list[-1]\n",
    "            stat[i, 0] = np.argmax(output)\n",
    "            stat[i, 1] = np.argmax(labels[:, i])    \n",
    "            diff += self.error_function(output, labels[:, i])\n",
    "        return stat, diff\n",
    "    \n",
    "    def __train_one_epoch(self, train_batches):\n",
    "        full_mse = 0\n",
    "        for train_batch in train_batches:\n",
    "            labels = Network.one_hot_encoded(train_batch[:, 0], self.number_of_classes)\n",
    "            train_batch_features = train_batch[:, 1:]\n",
    "            batch_size = train_batch_features.shape[0]\n",
    "            grad_b, grad_w, mse = self.__get_gradients(labels, train_batch, train_batch_features)\n",
    "            full_mse += mse\n",
    "            self.__update_network_params(batch_size, grad_b, grad_w)\n",
    "        return full_mse\n",
    "\n",
    "    def __update_network_params(self, batch_size, grad_b, grad_w):\n",
    "        self.weight_list = [w - (self.learning_rate * gw / batch_size)\n",
    "                            for w, gw in zip(self.weight_list, grad_w)]\n",
    "        self.bias_list = [b - (self.learning_rate * gb / batch_size)\n",
    "                          for b, gb in zip(self.bias_list, grad_b)]\n",
    "\n",
    "    def __get_gradients(self, labels, train_batch, train_batch_features):\n",
    "        mse = 0\n",
    "        grad_w = [0] * (self.layers_num - 1)\n",
    "        grad_b = [0] * (self.layers_num - 1)\n",
    "        for i in range(len(train_batch)):  # rekord\n",
    "            layer_inputs, layer_outputs = self.__feed_forward(train_batch_features[i, :])\n",
    "            mse += self.error_function(layer_outputs[-1], labels[:, i].reshape(self.number_of_classes, -1))\n",
    "           \n",
    "            # backprop\n",
    "            delta = self.__get_deltas(labels[:, i], layer_inputs, layer_outputs)\n",
    "            one_grad_w = [np.matmul(delta[0], train_batch_features[i, :].reshape(self.input_neurons_num, -1).T)]\n",
    "            for activ, d, u in zip(self.activation_functions, delta[1:], layer_inputs):\n",
    "                one_grad_w.append(np.matmul(d, activ(u).T))\n",
    "\n",
    "            grad_w = [a + b for a, b in zip(grad_w, one_grad_w)]\n",
    "            grad_b = [a + b for a, b in zip(delta, grad_b)]\n",
    "        return grad_b, grad_w, mse\n",
    "\n",
    "    def __get_deltas(self, labels, layer_inputs, layer_outputs):\n",
    "        labels = labels.reshape(self.number_of_classes, -1)\n",
    "        delta = [self.cost_function(layer_outputs[-1],\n",
    "                                    layer_inputs[-1],\n",
    "                                    labels, \n",
    "                                    self.activation_deriv_functions[-1])]\n",
    "        for layer_num in reversed(range(1, self.layers_num - 1)):\n",
    "            delta.append(np.matmul(self.weight_list[layer_num].T, delta[-1]) *\n",
    "                         self.activation_deriv_functions[layer_num - 1](layer_inputs[layer_num - 1]))\n",
    "        delta = list(reversed(delta))\n",
    "        return delta\n",
    "\n",
    "    def __feed_forward(self, features):\n",
    "        layer_inputs = []\n",
    "        layer_output = [features]\n",
    "        for activation_function, w, b in zip(self.activation_functions,\n",
    "                                             self.weight_list,\n",
    "                                             self.bias_list):\n",
    "            a = np.matmul(w, layer_output[-1])\n",
    "            layer_inputs.append(a.reshape(a.shape[0], 1) + b)\n",
    "            layer_output.append(activation_function(layer_inputs[-1]))\n",
    "        return layer_inputs, layer_output\n",
    "\n",
    "    @staticmethod\n",
    "    def __create_batches(data, batch_size):\n",
    "        rows_num = data.shape[0]\n",
    "        n = int(np.ceil(rows_num / batch_size))\n",
    "        return [data[(i * batch_size):min((i + 1) * batch_size, rows_num)] for i in range(n)]\n",
    "\n",
    "    @staticmethod\n",
    "    def one_hot_encoded(labels, number_of_classes):\n",
    "        labels = labels.astype(int)\n",
    "        res = np.zeros((number_of_classes, labels.shape[0]))\n",
    "        res[labels, np.arange(res.shape[1])] = 1\n",
    "        return res"
   ]
  },
  {
   "cell_type": "markdown",
   "metadata": {},
   "source": [
    "# Testowanie modelu"
   ]
  },
  {
   "cell_type": "code",
   "execution_count": 307,
   "metadata": {},
   "outputs": [],
   "source": [
    "net = Network(input_neurons_num=784,\n",
    "              hidden_layer_neurons_num=[128] * 2,\n",
    "              hidden_activation_functions_names=[\"tanh\"] * 2)"
   ]
  },
  {
   "cell_type": "code",
   "execution_count": 308,
   "metadata": {},
   "outputs": [],
   "source": [
    "train_mse,val_mse = net.train(train_data, val_data, train_batch_size=128, epochs=10)"
   ]
  },
  {
   "cell_type": "code",
   "execution_count": 309,
   "metadata": {},
   "outputs": [
    {
     "data": {
      "image/png": "[encoded data removed]",
      "text/plain": [
       "<Figure size 432x288 with 1 Axes>"
      ]
     },
     "metadata": {},
     "output_type": "display_data"
    }
   ],
   "source": [
    "import matplotlib.pyplot as plt\n",
    "plt.plot(train_mse, label = \"train\")\n",
    "plt.plot(val_mse, label = \"val\")\n",
    "plt.legend(loc = \"upper right\")\n",
    "plt.show()"
   ]
  },
  {
   "cell_type": "code",
   "execution_count": 310,
   "metadata": {},
   "outputs": [],
   "source": [
    "stat, _=net.predict(val_data)"
   ]
  },
  {
   "cell_type": "code",
   "execution_count": 311,
   "metadata": {},
   "outputs": [],
   "source": [
    "def compute_accurracy(stat):\n",
    "    count=0\n",
    "    for i in range (stat.shape[0]):\n",
    "        if stat[i,0]==stat[i,1]:\n",
    "            count=count+1\n",
    "    return count/stat.shape[0]"
   ]
  },
  {
   "cell_type": "code",
   "execution_count": 312,
   "metadata": {},
   "outputs": [
    {
     "name": "stdout",
     "output_type": "stream",
     "text": [
      "val_accuracy: 0.9476\n"
     ]
    }
   ],
   "source": [
    "val_accuracy = compute_accurracy(stat)\n",
    "print(\"val_accuracy: {0}\".format(val_accuracy))"
   ]
  },
  {
   "cell_type": "code",
   "execution_count": 313,
   "metadata": {},
   "outputs": [],
   "source": [
    "data_test = pd.read_csv(\"./data/mnist_test.csv\", sep=\",\", header=None)\n",
    "data_frame.loc[:, 1:] /= 255.0\n",
    "data1=data_test.as_matrix()"
   ]
  },
  {
   "cell_type": "code",
   "execution_count": 314,
   "metadata": {},
   "outputs": [],
   "source": [
    "stat, _=net.predict(data1)"
   ]
  },
  {
   "cell_type": "code",
   "execution_count": 315,
   "metadata": {},
   "outputs": [
    {
     "name": "stdout",
     "output_type": "stream",
     "text": [
      "test_accuracy: 0.8672\n"
     ]
    }
   ],
   "source": [
    "test_accuracy = compute_accurracy(stat)\n",
    "print(\"test_accuracy: {0}\".format(test_accuracy))"
   ]
  },
  {
   "cell_type": "code",
   "execution_count": null,
   "metadata": {},
   "outputs": [],
   "source": []
  }
 ],
 "metadata": {
  "kernelspec": {
   "display_name": "Python 3",
   "language": "python",
   "name": "python3"
  },
  "language_info": {
   "codemirror_mode": {
    "name": "ipython",
    "version": 3
   },
   "file_extension": ".py",
   "mimetype": "text/x-python",
   "name": "python",
   "nbconvert_exporter": "python",
   "pygments_lexer": "ipython3",
   "version": "3.5.2"
  }
 },
 "nbformat": 4,
 "nbformat_minor": 2
}
