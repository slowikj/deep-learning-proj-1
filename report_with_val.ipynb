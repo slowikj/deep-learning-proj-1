{
 "cells": [
  {
   "cell_type": "code",
   "execution_count": 1,
   "metadata": {},
   "outputs": [],
   "source": [
    "import numpy as np"
   ]
  },
  {
   "cell_type": "code",
   "execution_count": 2,
   "metadata": {},
   "outputs": [],
   "source": [
    "import pandas as pd"
   ]
  },
  {
   "cell_type": "code",
   "execution_count": 3,
   "metadata": {},
   "outputs": [],
   "source": [
    "import matplotlib.pyplot as plt"
   ]
  },
  {
   "cell_type": "code",
   "execution_count": 88,
   "metadata": {},
   "outputs": [],
   "source": [
    "data_frame = pd.read_csv(\"./mnist_train.csv\", sep=\",\", header=None)"
   ]
  },
  {
   "cell_type": "code",
   "execution_count": 89,
   "metadata": {},
   "outputs": [
    {
     "data": {
      "text/html": [
       "<div>\n",
       "<style scoped>\n",
       "    .dataframe tbody tr th:only-of-type {\n",
       "        vertical-align: middle;\n",
       "    }\n",
       "\n",
       "    .dataframe tbody tr th {\n",
       "        vertical-align: top;\n",
       "    }\n",
       "\n",
       "    .dataframe thead th {\n",
       "        text-align: right;\n",
       "    }\n",
       "</style>\n",
       "<table border=\"1\" class=\"dataframe\">\n",
       "  <thead>\n",
       "    <tr style=\"text-align: right;\">\n",
       "      <th></th>\n",
       "      <th>0</th>\n",
       "      <th>1</th>\n",
       "      <th>2</th>\n",
       "      <th>3</th>\n",
       "      <th>4</th>\n",
       "      <th>5</th>\n",
       "      <th>6</th>\n",
       "      <th>7</th>\n",
       "      <th>8</th>\n",
       "      <th>9</th>\n",
       "      <th>...</th>\n",
       "      <th>775</th>\n",
       "      <th>776</th>\n",
       "      <th>777</th>\n",
       "      <th>778</th>\n",
       "      <th>779</th>\n",
       "      <th>780</th>\n",
       "      <th>781</th>\n",
       "      <th>782</th>\n",
       "      <th>783</th>\n",
       "      <th>784</th>\n",
       "    </tr>\n",
       "  </thead>\n",
       "  <tbody>\n",
       "    <tr>\n",
       "      <th>0</th>\n",
       "      <td>5</td>\n",
       "      <td>0</td>\n",
       "      <td>0</td>\n",
       "      <td>0</td>\n",
       "      <td>0</td>\n",
       "      <td>0</td>\n",
       "      <td>0</td>\n",
       "      <td>0</td>\n",
       "      <td>0</td>\n",
       "      <td>0</td>\n",
       "      <td>...</td>\n",
       "      <td>0</td>\n",
       "      <td>0</td>\n",
       "      <td>0</td>\n",
       "      <td>0</td>\n",
       "      <td>0</td>\n",
       "      <td>0</td>\n",
       "      <td>0</td>\n",
       "      <td>0</td>\n",
       "      <td>0</td>\n",
       "      <td>0</td>\n",
       "    </tr>\n",
       "    <tr>\n",
       "      <th>1</th>\n",
       "      <td>0</td>\n",
       "      <td>0</td>\n",
       "      <td>0</td>\n",
       "      <td>0</td>\n",
       "      <td>0</td>\n",
       "      <td>0</td>\n",
       "      <td>0</td>\n",
       "      <td>0</td>\n",
       "      <td>0</td>\n",
       "      <td>0</td>\n",
       "      <td>...</td>\n",
       "      <td>0</td>\n",
       "      <td>0</td>\n",
       "      <td>0</td>\n",
       "      <td>0</td>\n",
       "      <td>0</td>\n",
       "      <td>0</td>\n",
       "      <td>0</td>\n",
       "      <td>0</td>\n",
       "      <td>0</td>\n",
       "      <td>0</td>\n",
       "    </tr>\n",
       "    <tr>\n",
       "      <th>2</th>\n",
       "      <td>4</td>\n",
       "      <td>0</td>\n",
       "      <td>0</td>\n",
       "      <td>0</td>\n",
       "      <td>0</td>\n",
       "      <td>0</td>\n",
       "      <td>0</td>\n",
       "      <td>0</td>\n",
       "      <td>0</td>\n",
       "      <td>0</td>\n",
       "      <td>...</td>\n",
       "      <td>0</td>\n",
       "      <td>0</td>\n",
       "      <td>0</td>\n",
       "      <td>0</td>\n",
       "      <td>0</td>\n",
       "      <td>0</td>\n",
       "      <td>0</td>\n",
       "      <td>0</td>\n",
       "      <td>0</td>\n",
       "      <td>0</td>\n",
       "    </tr>\n",
       "    <tr>\n",
       "      <th>3</th>\n",
       "      <td>1</td>\n",
       "      <td>0</td>\n",
       "      <td>0</td>\n",
       "      <td>0</td>\n",
       "      <td>0</td>\n",
       "      <td>0</td>\n",
       "      <td>0</td>\n",
       "      <td>0</td>\n",
       "      <td>0</td>\n",
       "      <td>0</td>\n",
       "      <td>...</td>\n",
       "      <td>0</td>\n",
       "      <td>0</td>\n",
       "      <td>0</td>\n",
       "      <td>0</td>\n",
       "      <td>0</td>\n",
       "      <td>0</td>\n",
       "      <td>0</td>\n",
       "      <td>0</td>\n",
       "      <td>0</td>\n",
       "      <td>0</td>\n",
       "    </tr>\n",
       "    <tr>\n",
       "      <th>4</th>\n",
       "      <td>9</td>\n",
       "      <td>0</td>\n",
       "      <td>0</td>\n",
       "      <td>0</td>\n",
       "      <td>0</td>\n",
       "      <td>0</td>\n",
       "      <td>0</td>\n",
       "      <td>0</td>\n",
       "      <td>0</td>\n",
       "      <td>0</td>\n",
       "      <td>...</td>\n",
       "      <td>0</td>\n",
       "      <td>0</td>\n",
       "      <td>0</td>\n",
       "      <td>0</td>\n",
       "      <td>0</td>\n",
       "      <td>0</td>\n",
       "      <td>0</td>\n",
       "      <td>0</td>\n",
       "      <td>0</td>\n",
       "      <td>0</td>\n",
       "    </tr>\n",
       "  </tbody>\n",
       "</table>\n",
       "<p>5 rows × 785 columns</p>\n",
       "</div>"
      ],
      "text/plain": [
       "   0    1    2    3    4    5    6    7    8    9   ...   775  776  777  778  \\\n",
       "0    5    0    0    0    0    0    0    0    0    0 ...     0    0    0    0   \n",
       "1    0    0    0    0    0    0    0    0    0    0 ...     0    0    0    0   \n",
       "2    4    0    0    0    0    0    0    0    0    0 ...     0    0    0    0   \n",
       "3    1    0    0    0    0    0    0    0    0    0 ...     0    0    0    0   \n",
       "4    9    0    0    0    0    0    0    0    0    0 ...     0    0    0    0   \n",
       "\n",
       "   779  780  781  782  783  784  \n",
       "0    0    0    0    0    0    0  \n",
       "1    0    0    0    0    0    0  \n",
       "2    0    0    0    0    0    0  \n",
       "3    0    0    0    0    0    0  \n",
       "4    0    0    0    0    0    0  \n",
       "\n",
       "[5 rows x 785 columns]"
      ]
     },
     "execution_count": 89,
     "metadata": {},
     "output_type": "execute_result"
    }
   ],
   "source": [
    "data_frame.head()"
   ]
  },
  {
   "cell_type": "code",
   "execution_count": 90,
   "metadata": {},
   "outputs": [],
   "source": [
    "scale=np.zeros(data_frame.shape[0])\n",
    "for i in range (data_frame.shape[0]):\n",
    "    scale [i]=np.max(data_frame.loc[i, 1:]) if np.max(data_frame.loc[i, 1:]) !=0 else 1\n"
   ]
  },
  {
   "cell_type": "code",
   "execution_count": 91,
   "metadata": {},
   "outputs": [
    {
     "name": "stderr",
     "output_type": "stream",
     "text": [
      "C:\\Users\\Paulina\\Anaconda3\\lib\\site-packages\\ipykernel_launcher.py:1: FutureWarning: Method .as_matrix will be removed in a future version. Use .values instead.\n",
      "  \"\"\"Entry point for launching an IPython kernel.\n"
     ]
    }
   ],
   "source": [
    "data=data_frame.as_matrix()"
   ]
  },
  {
   "cell_type": "code",
   "execution_count": 95,
   "metadata": {},
   "outputs": [],
   "source": [
    "data=np.divide(data, scale.reshape([60000,1]))"
   ]
  },
  {
   "cell_type": "code",
   "execution_count": 96,
   "metadata": {},
   "outputs": [],
   "source": [
    "image=data[0,1:].reshape((28,28))"
   ]
  },
  {
   "cell_type": "code",
   "execution_count": 97,
   "metadata": {},
   "outputs": [
    {
     "data": {
      "image/png": "[encoded data removed]",
      "text/plain": [
       "<Figure size 432x288 with 1 Axes>"
      ]
     },
     "metadata": {
      "needs_background": "light"
     },
     "output_type": "display_data"
    }
   ],
   "source": [
    "plt.imshow(image)\n",
    "plt.show()"
   ]
  },
  {
   "cell_type": "code",
   "execution_count": 101,
   "metadata": {},
   "outputs": [],
   "source": [
    "#create validation set\n",
    "from sklearn.model_selection import train_test_split\n",
    "train_data,val_data=train_test_split(data, test_size=0.2, random_state=42)"
   ]
  },
  {
   "cell_type": "code",
   "execution_count": null,
   "metadata": {},
   "outputs": [],
   "source": []
  },
  {
   "cell_type": "code",
   "execution_count": 140,
   "metadata": {},
   "outputs": [],
   "source": [
    "import numpy as np\n",
    "from random import shuffle\n",
    "from sklearn.metrics import mean_squared_error\n",
    "\n",
    "class Network(object):\n",
    "    \n",
    "    def __init__(self, train_data, hidden_layer_neurons_num, epochs, learning_rate = 0.05):\n",
    "        self.number_of_classes = 10\n",
    "        self.epochs=epochs\n",
    "        self.train_data = train_data\n",
    "        self.learning_rate = learning_rate\n",
    "        train_data_without_labels = train_data[:,1:]\n",
    "        self.input_neurons_num = train_data_without_labels.shape[0] \\\n",
    "            if len(train_data_without_labels.shape) == 1 \\\n",
    "            else train_data_without_labels.shape[1]\n",
    "        self.neurons_num_per_layer = [self.input_neurons_num] + hidden_layer_neurons_num + [self.number_of_classes]\n",
    "        self.layers_num = len(self.neurons_num_per_layer)\n",
    "        self.activation_functions = [lambda x: self.sigmoid_function(x)] * (self.layers_num - 2) + \\\n",
    "            [lambda x: self.softmax_function(x)] \n",
    "        self.weight_list = [np.random.randn(next_layer_num, current_layer_num) \\\n",
    "                       for (current_layer_num, next_layer_num) in \\\n",
    "                            zip(self.neurons_num_per_layer, self.neurons_num_per_layer[1:])]\n",
    "        self.bias_list = [np.random.randn(layer_num,1) for layer_num in self.neurons_num_per_layer[1:]]\n",
    "        \n",
    "    \n",
    "    def main(self, batch_size):\n",
    "        avg_mse=np.zeros(self.epochs) \n",
    "        avg_val=np.zeros(self.epochs) \n",
    "        for epoch in range(self.epochs):\n",
    "            shuffle(self.train_data)\n",
    "            train_batches = self.create_train_batches(batch_size)\n",
    "            mse1=self.feed_forward(train_batches)\n",
    "            avg_mse[epoch]=mse1/self.train_data.shape[0]\n",
    "            mse_val=self.predict(val_data)\n",
    "            avg_val[epoch]=mse_val/val_data.shape[0]\n",
    "        return avg_mse, avg_val \n",
    "                \n",
    "\n",
    "    #uwaga feedforward można zrobić macierzowo, ale backprop trzeba dla pojedynczych rekordów\n",
    "    def feed_forward(self, train_batches):\n",
    "        mse = 0\n",
    "        for train_batch in train_batches:\n",
    "            labels = self.one_hot_encoded(train_batch[:, 0:1])\n",
    "            train_batch_features = train_batch[:, 1:]\n",
    "            batch_size=train_batch_features.shape[0]\n",
    "        \n",
    "            #forward\n",
    "            grad_w=[0] * (self.layers_num - 1)\n",
    "            grad_b=[0] * (self.layers_num - 1)\n",
    "            \n",
    "            for i in range (len(train_batch)): #rekord\n",
    "                u = []\n",
    "                layer_output = [train_batch_features[i,:]]\n",
    "                for activation_function, w, b in zip(self.activation_functions, \\\n",
    "                                                 self.weight_list, \\\n",
    "                                                 self.bias_list):\n",
    "                    a=np.matmul(w,layer_output[-1])\n",
    "                    u.append(a.reshape(a.shape[0], 1) + b)\n",
    "                    layer_output.append(activation_function(u[-1]))\n",
    "                \n",
    "                mse+=mean_squared_error(layer_output[-1],labels[:,i].reshape(10,1))\n",
    "                \n",
    "                #backprop\n",
    "                label=labels[:,i].reshape(10,1)\n",
    "                delta = [(layer_output[-1] - label) * self.softmax_derivative(layer_output[-1], u[-1])] \n",
    "                for layer_num in reversed(range(1, self.layers_num-1)):\n",
    "                    delta.append(np.matmul(self.weight_list[layer_num].T, delta[-1])*\\\n",
    "                                 self.sigmoid_derivative(u[layer_num-1])) \n",
    "                delta = list(reversed(delta))\n",
    "            \n",
    "                tmp_grad_w = [np.matmul(delta[0], train_batch_features[i,:].reshape(784,1).T)]\n",
    "                for activ, d, _u in zip(self.activation_functions, delta[1:], u):\n",
    "                    tmp_grad_w.append(np.matmul(d,activ(_u).T))\n",
    "                    \n",
    "                grad_w = [a + b for a, b in zip(grad_w, tmp_grad_w)]\n",
    "                grad_b= [a + b for a, b in zip(delta, grad_b)]\n",
    "                \n",
    "            new_weight_list = [w - (self.learning_rate * gw / batch_size) \\\n",
    "                               for w, gw in zip(self.weight_list, grad_w)]\n",
    "            self.weight_list = new_weight_list\n",
    "            \n",
    "            new_bias_list = [ b - (self.learning_rate * gb / batch_size) \\\n",
    "                             for b, gb in zip(self.bias_list, grad_b)]\n",
    "            self.bias_list = new_bias_list\n",
    "        return mse\n",
    "    \n",
    "    def predict(self, test_batch):\n",
    "        labels = self.one_hot_encoded(test_batch[:, 0:1])\n",
    "        test_batch_features = test_batch[:, 1:]\n",
    "        batch_size=test_batch_features.shape[0]\n",
    "        res = []\n",
    "        diff=0\n",
    "        for i in range(len(test_batch)):\n",
    "            layer_output = test_batch_features[i,:]\n",
    "            for activation_function, w, b in zip(self.activation_functions, \\\n",
    "                                                 self.weight_list, \\\n",
    "                                                 self.bias_list):\n",
    "                a = np.matmul(w,layer_output)\n",
    "                u = a.reshape(a.shape[0], 1) + b\n",
    "                layer_output = activation_function(u)\n",
    "    \n",
    "            res.append(layer_output)\n",
    "            #print(\"label: {0}\".format((layer_output)))\n",
    "            \n",
    "            diff+=mean_squared_error(layer_output, labels[:,i])\n",
    "        return diff\n",
    "            \n",
    "    def softmax_derivative(self, probabilities, u):\n",
    "        diff_output=np.zeros([self.number_of_classes, self.number_of_classes])\n",
    "        for row in range (diff_output.shape[0]):\n",
    "            for col in range (diff_output.shape[1]):\n",
    "                if (col==row):\n",
    "                    diff_output[row,col]=probabilities[row,0]*(1-probabilities[col,0])\n",
    "                else:\n",
    "                    diff_output[row,col]=-probabilities[row,0]*probabilities[col,0]\n",
    "        return np.matmul(diff_output,u)\n",
    "                             \n",
    "    def sigmoid_derivative(self, u):\n",
    "        sigmoid_value = self.sigmoid_function(u)\n",
    "        diff_output=sigmoid_value*(1-sigmoid_value)\n",
    "        return diff_output\n",
    "        \n",
    "    def tanh_derivative(self, u):\n",
    "        diff_output=1-(u)^2\n",
    "        return diff_output\n",
    "         \n",
    "    def create_train_batches(self, batch_size):\n",
    "        rows_num = self.train_data.shape[0]\n",
    "        n = int(np.ceil(rows_num / batch_size))\n",
    "        return [self.train_data[(i * batch_size):min((i + 1) * batch_size, rows_num)] for i in range(n)]\n",
    "    \n",
    "    def one_hot_encoded(self, train_labels):\n",
    "        train_labels = train_labels.astype(int)\n",
    "        res = np.zeros((self.number_of_classes, train_labels.shape[0]))\n",
    "        res[train_labels, np.arange(res.shape[1])] = 1\n",
    "        return res\n",
    "        \n",
    "    def sigmoid_function(self, x):\n",
    "        return 1 / (1 + np.exp(-x))\n",
    "    \n",
    "    def softmax_function(self, x):\n",
    "        return np.exp(x) / np.sum(np.exp(x)) \n",
    "        \n"
   ]
  },
  {
   "cell_type": "code",
   "execution_count": 141,
   "metadata": {},
   "outputs": [],
   "source": [
    "net = Network(train_data[1:4800,:], [100, 90], 30)"
   ]
  },
  {
   "cell_type": "code",
   "execution_count": 112,
   "metadata": {},
   "outputs": [
    {
     "data": {
      "text/plain": [
       "[(100, 784), (90, 100), (10, 90)]"
      ]
     },
     "execution_count": 112,
     "metadata": {},
     "output_type": "execute_result"
    }
   ],
   "source": [
    "[matrix.shape for matrix in net.weight_list]"
   ]
  },
  {
   "cell_type": "code",
   "execution_count": 113,
   "metadata": {},
   "outputs": [
    {
     "data": {
      "text/plain": [
       "784"
      ]
     },
     "execution_count": 113,
     "metadata": {},
     "output_type": "execute_result"
    }
   ],
   "source": [
    "net.input_neurons_num"
   ]
  },
  {
   "cell_type": "code",
   "execution_count": 114,
   "metadata": {},
   "outputs": [
    {
     "data": {
      "text/plain": [
       "(10, 1)"
      ]
     },
     "execution_count": 114,
     "metadata": {},
     "output_type": "execute_result"
    }
   ],
   "source": [
    "net.bias_list[2].shape"
   ]
  },
  {
   "cell_type": "code",
   "execution_count": 142,
   "metadata": {
    "scrolled": true
   },
   "outputs": [],
   "source": [
    "ms1,ms2 = net.main(128)"
   ]
  },
  {
   "cell_type": "code",
   "execution_count": 146,
   "metadata": {},
   "outputs": [
    {
     "data": {
      "image/png": "[encoded data removed]",
      "text/plain": [
       "<Figure size 432x288 with 1 Axes>"
      ]
     },
     "metadata": {
      "needs_background": "light"
     },
     "output_type": "display_data"
    }
   ],
   "source": [
    "import matplotlib.pyplot as plt\n",
    "plt.plot(ms1)\n",
    "plt.plot(ms2)\n",
    "plt.show()"
   ]
  },
  {
   "cell_type": "code",
   "execution_count": null,
   "metadata": {},
   "outputs": [],
   "source": [
    "net.predict(val_data)"
   ]
  },
  {
   "cell_type": "code",
   "execution_count": null,
   "metadata": {},
   "outputs": [],
   "source": []
  }
 ],
 "metadata": {
  "kernelspec": {
   "display_name": "Python 3",
   "language": "python",
   "name": "python3"
  },
  "language_info": {
   "codemirror_mode": {
    "name": "ipython",
    "version": 3
   },
   "file_extension": ".py",
   "mimetype": "text/x-python",
   "name": "python",
   "nbconvert_exporter": "python",
   "pygments_lexer": "ipython3",
   "version": "3.7.1"
  }
 },
 "nbformat": 4,
 "nbformat_minor": 2
}
